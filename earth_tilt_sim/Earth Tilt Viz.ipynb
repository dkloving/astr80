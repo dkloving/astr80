{
 "cells": [
  {
   "cell_type": "code",
   "execution_count": 32,
   "metadata": {},
   "outputs": [],
   "source": [
    "import numpy as np\n",
    "import matplotlib.pyplot as plt\n",
    "%matplotlib inline\n",
    "import h5py\n",
    "import imageio\n",
    "from skimage.transform import resize"
   ]
  },
  {
   "cell_type": "code",
   "execution_count": 95,
   "metadata": {},
   "outputs": [],
   "source": [
    "import warnings\n",
    "warnings.filterwarnings('ignore', message=\"The default mode, 'constant', will be changed to 'reflect' in skimage 0.15.\")"
   ]
  },
  {
   "cell_type": "code",
   "execution_count": 114,
   "metadata": {},
   "outputs": [],
   "source": [
    "from PIL import Image\n",
    "from ipywidgets import interact\n",
    "\n",
    "def display_field(field):\n",
    "    return Image.fromarray(field)\n",
    "\n",
    "def display_sequence(images):\n",
    "    images_zerod = images-images.min()\n",
    "    images_normd = images_zerod / images_zerod.max()\n",
    "    images_255 = np.uint8(images_normd * 255)\n",
    "    \n",
    "    def _show(frame=(0, len(images_255) - 1)):\n",
    "        return display_field(images_255[frame])\n",
    "    \n",
    "    return interact(_show)"
   ]
  },
  {
   "cell_type": "code",
   "execution_count": 2,
   "metadata": {},
   "outputs": [],
   "source": [
    "h5f = h5py.File('sim_result.h5', 'r')"
   ]
  },
  {
   "cell_type": "code",
   "execution_count": 36,
   "metadata": {},
   "outputs": [],
   "source": [
    "# from http://flatplanet.sourceforge.net/maps/natural.html\n",
    "earth_img = imageio.imread('earthicefree.jpg').astype(np.float32) / 255"
   ]
  },
  {
   "cell_type": "code",
   "execution_count": 16,
   "metadata": {},
   "outputs": [],
   "source": [
    "def get_data(angle, file):\n",
    "    data = file[angle]\n",
    "    arr = np.empty(data.shape)\n",
    "    data.read_direct(arr)\n",
    "    return arr"
   ]
  },
  {
   "cell_type": "code",
   "execution_count": 108,
   "metadata": {},
   "outputs": [],
   "source": [
    "def gray_to_heat(grayscale_image):\n",
    "    cmap = plt.get_cmap('plasma')\n",
    "    heat = cmap(grayscale_image)\n",
    "    return heat[...,:3]\n",
    "    \n",
    "def compose_images(earth, light):\n",
    "    light_rgb = gray_to_heat(light)\n",
    "    light_rgb = resize(light_rgb, earth.shape)\n",
    "    combined = earth*0.25+light_rgb*0.75\n",
    "    return np.clip(combined, 0, 1)"
   ]
  },
  {
   "cell_type": "code",
   "execution_count": 90,
   "metadata": {},
   "outputs": [
    {
     "name": "stdout",
     "output_type": "stream",
     "text": [
      "processed 91/90\r"
     ]
    }
   ],
   "source": [
    "light_samples = []\n",
    "\n",
    "for i in range(91):\n",
    "    light_samples.append(get_data(str(i), h5f))\n",
    "    print('loaded {}/90'.format(i), end='\\r')"
   ]
  },
  {
   "cell_type": "markdown",
   "metadata": {},
   "source": [
    "## Mean Light per Rotational Period"
   ]
  },
  {
   "cell_type": "code",
   "execution_count": 106,
   "metadata": {},
   "outputs": [
    {
     "name": "stdout",
     "output_type": "stream",
     "text": [
      "processed 90/90\r"
     ]
    }
   ],
   "source": [
    "mean_light = np.empty((len(light_samples), *light_samples[0].shape[1:]))\n",
    "\n",
    "for i,s in enumerate(light_samples):\n",
    "    mean_light[i] = s.mean(axis=0)\n",
    "    print('processed {}/90'.format(i), end='\\r')\n",
    "    \n",
    "mean_light *= 1/mean_light.max()"
   ]
  },
  {
   "cell_type": "code",
   "execution_count": 118,
   "metadata": {},
   "outputs": [
    {
     "name": "stdout",
     "output_type": "stream",
     "text": [
      "processed 90/90\r"
     ]
    }
   ],
   "source": [
    "mean_images = np.empty((len(light_samples), *earth_img.shape))\n",
    "\n",
    "for i in range(len(mean_light)):\n",
    "    mean_images[i] = compose_images(earth_img, mean_light[i])\n",
    "    print('processed {}/90'.format(i), end='\\r')"
   ]
  },
  {
   "cell_type": "code",
   "execution_count": 119,
   "metadata": {},
   "outputs": [
    {
     "data": {
      "application/vnd.jupyter.widget-view+json": {
       "model_id": "4f11202c01da46fc92bf4379bcf9a196",
       "version_major": 2,
       "version_minor": 0
      },
      "text/plain": [
       "interactive(children=(IntSlider(value=45, description='frame', max=90), Output()), _dom_classes=('widget-inter…"
      ]
     },
     "metadata": {},
     "output_type": "display_data"
    }
   ],
   "source": [
    "display_sequence(mean_images);"
   ]
  },
  {
   "cell_type": "code",
   "execution_count": 133,
   "metadata": {},
   "outputs": [],
   "source": [
    "for i in range(len(mean_images)):\n",
    "    imageio.imwrite('./images_mean/{}.jpg'.format(i), (mean_images[i]*255).astype(np.uint8))"
   ]
  },
  {
   "cell_type": "markdown",
   "metadata": {},
   "source": [
    "## Variance across Rotational Periods"
   ]
  },
  {
   "cell_type": "code",
   "execution_count": 122,
   "metadata": {},
   "outputs": [
    {
     "name": "stdout",
     "output_type": "stream",
     "text": [
      "processed 90/90\r"
     ]
    }
   ],
   "source": [
    "var_light = np.empty((len(light_samples), *light_samples[0].shape[1:]))\n",
    "\n",
    "for i,s in enumerate(light_samples):\n",
    "    var_light[i] = s.std(axis=0)\n",
    "    print('processed {}/90'.format(i), end='\\r')\n",
    "    \n",
    "var_light *= 1/var_light.max()\n",
    "\n",
    "var_images = np.empty((len(light_samples), *earth_img.shape))\n",
    "\n",
    "for i in range(len(mean_light)):\n",
    "    var_images[i] = compose_images(earth_img, var_light[i])\n",
    "    print('processed {}/90'.format(i), end='\\r')"
   ]
  },
  {
   "cell_type": "code",
   "execution_count": 123,
   "metadata": {},
   "outputs": [
    {
     "data": {
      "application/vnd.jupyter.widget-view+json": {
       "model_id": "fef32109a58f4230a4b9971cb6b18ac6",
       "version_major": 2,
       "version_minor": 0
      },
      "text/plain": [
       "interactive(children=(IntSlider(value=45, description='frame', max=90), Output()), _dom_classes=('widget-inter…"
      ]
     },
     "metadata": {},
     "output_type": "display_data"
    }
   ],
   "source": [
    "display_sequence(var_images);"
   ]
  },
  {
   "cell_type": "code",
   "execution_count": 134,
   "metadata": {},
   "outputs": [],
   "source": [
    "for i in range(len(var_images)):\n",
    "    imageio.imwrite('./images_var/{}.jpg'.format(i), (var_images[i]*255).astype(np.uint8))"
   ]
  },
  {
   "cell_type": "markdown",
   "metadata": {},
   "source": [
    "## Max and Min Light per Rotational Period"
   ]
  },
  {
   "cell_type": "code",
   "execution_count": 128,
   "metadata": {},
   "outputs": [
    {
     "name": "stdout",
     "output_type": "stream",
     "text": [
      "processed 90/90\r"
     ]
    }
   ],
   "source": [
    "max_light = np.empty((len(light_samples), *light_samples[0].shape[1:]))\n",
    "min_light = np.empty((len(light_samples), *light_samples[0].shape[1:]))\n",
    "\n",
    "for i,s in enumerate(light_samples):\n",
    "    max_light[i] = s.max(axis=0)\n",
    "    min_light[i] = s.min(axis=0)\n",
    "    print('processed {}/90'.format(i), end='\\r')\n",
    "    \n",
    "max_light *= 1/max_light.max()\n",
    "min_light *= 1/min_light.max()\n",
    "\n",
    "max_images = np.empty((len(light_samples), *earth_img.shape))\n",
    "min_images = np.empty((len(light_samples), *earth_img.shape))\n",
    "\n",
    "for i in range(len(mean_light)):\n",
    "    max_images[i] = compose_images(earth_img, max_light[i])\n",
    "    min_images[i] = compose_images(earth_img, min_light[i])\n",
    "    print('processed {}/90'.format(i), end='\\r')"
   ]
  },
  {
   "cell_type": "code",
   "execution_count": 121,
   "metadata": {},
   "outputs": [
    {
     "data": {
      "application/vnd.jupyter.widget-view+json": {
       "model_id": "a3dc509957f6460faca4110a6aa2cd82",
       "version_major": 2,
       "version_minor": 0
      },
      "text/plain": [
       "interactive(children=(IntSlider(value=45, description='frame', max=90), Output()), _dom_classes=('widget-inter…"
      ]
     },
     "metadata": {},
     "output_type": "display_data"
    }
   ],
   "source": [
    "display_sequence(max_images);"
   ]
  },
  {
   "cell_type": "code",
   "execution_count": 129,
   "metadata": {},
   "outputs": [
    {
     "data": {
      "application/vnd.jupyter.widget-view+json": {
       "model_id": "f4ceccc48f2148b9beb1292d384b51bc",
       "version_major": 2,
       "version_minor": 0
      },
      "text/plain": [
       "interactive(children=(IntSlider(value=45, description='frame', max=90), Output()), _dom_classes=('widget-inter…"
      ]
     },
     "metadata": {},
     "output_type": "display_data"
    }
   ],
   "source": [
    "display_sequence(min_images);"
   ]
  },
  {
   "cell_type": "code",
   "execution_count": 135,
   "metadata": {},
   "outputs": [],
   "source": [
    "for i in range(len(max_images)):\n",
    "    imageio.imwrite('./images_max/{}.jpg'.format(i), (max_images[i]*255).astype(np.uint8))"
   ]
  },
  {
   "cell_type": "code",
   "execution_count": 136,
   "metadata": {},
   "outputs": [],
   "source": [
    "for i in range(len(min_images)):\n",
    "    imageio.imwrite('./images_min/{}.jpg'.format(i), (min_images[i]*255).astype(np.uint8))"
   ]
  }
 ],
 "metadata": {
  "kernelspec": {
   "display_name": "Python [default]",
   "language": "python",
   "name": "python3"
  },
  "language_info": {
   "codemirror_mode": {
    "name": "ipython",
    "version": 3
   },
   "file_extension": ".py",
   "mimetype": "text/x-python",
   "name": "python",
   "nbconvert_exporter": "python",
   "pygments_lexer": "ipython3",
   "version": "3.5.5"
  }
 },
 "nbformat": 4,
 "nbformat_minor": 2
}
